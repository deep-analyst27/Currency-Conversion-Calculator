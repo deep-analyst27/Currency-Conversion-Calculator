{
 "cells": [
  {
   "cell_type": "code",
   "execution_count": 1,
   "id": "28cf0ac3",
   "metadata": {},
   "outputs": [],
   "source": [
    "import requests"
   ]
  },
  {
   "cell_type": "code",
   "execution_count": 2,
   "id": "10d46c8e",
   "metadata": {},
   "outputs": [],
   "source": [
    "import json"
   ]
  },
  {
   "cell_type": "code",
   "execution_count": 3,
   "id": "65a7dda1",
   "metadata": {},
   "outputs": [],
   "source": [
    "base_url = \"https://api.apilayer.com/exchangerates_data\"\n",
    "payload = {}\n",
    "headers= {\n",
    "  \"apikey\": \"aBqzqTAgFz6QInwM15855w58ONgs1VP6\"\n",
    "}"
   ]
  },
  {
   "cell_type": "code",
   "execution_count": null,
   "id": "f6185f2c",
   "metadata": {
    "collapsed": true
   },
   "outputs": [],
   "source": [
    "date = input(\"Please enter the date (in the format 'yyyy-mm-dd' or 'latest'): \")\n",
    "base = input(\"Convert from (currency): \")\n",
    "curr = input(\"Convert to (currency): \")\n",
    "quan = float(input(\"How much {} do you want to convert: \".format(base)))\n",
    "\n",
    "url = base_url + \"/\" + date + \"?base=\" + base + \"&symbols=\" + curr\n",
    "response = requests.get(url, headers= headers, data= payload)\n",
    "\n",
    "if (response.ok is False):\n",
    "    print(\"\\nError{}:\".format(response.status_code))\n",
    "    print(response.json()[\"error\"])\n",
    "else:\n",
    "    exchange_data = response.json()\n",
    "    rate = exchange_data[\"rates\"][curr]\n",
    "    \n",
    "    result = quan * rate\n",
    "    \n",
    "    print(\"\\n{0} {1} is equal to {2} {3}, based upon exchange rates on {4}\".format(quan, base, result, curr, exchange_data[\"date\"]))\n",
    "    "
   ]
  },
  {
   "cell_type": "code",
   "execution_count": null,
   "id": "7a392f14",
   "metadata": {},
   "outputs": [],
   "source": []
  }
 ],
 "metadata": {
  "kernelspec": {
   "display_name": "Python 3 (ipykernel)",
   "language": "python",
   "name": "python3"
  },
  "language_info": {
   "codemirror_mode": {
    "name": "ipython",
    "version": 3
   },
   "file_extension": ".py",
   "mimetype": "text/x-python",
   "name": "python",
   "nbconvert_exporter": "python",
   "pygments_lexer": "ipython3",
   "version": "3.9.13"
  }
 },
 "nbformat": 4,
 "nbformat_minor": 5
}
